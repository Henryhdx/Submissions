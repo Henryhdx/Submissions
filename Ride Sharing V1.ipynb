{
 "cells": [
  {
   "cell_type": "code",
   "execution_count": 1,
   "metadata": {},
   "outputs": [
    {
     "name": "stdout",
     "output_type": "stream",
     "text": [
      "height has been deprecated.\n",
      "\n"
     ]
    }
   ],
   "source": [
    "# Import dependecnies\n",
    "from pandas import *\n",
    "import numpy as np\n",
    "import pickle\n",
    "from savReaderWriter import * \n",
    "import matplotlib.pyplot as plt\n",
    "\n",
    "# Change display height and maximum number of rows to print\n",
    "set_option('display.height', 500)\n",
    "set_option('display.max_rows', 500)"
   ]
  },
  {
   "cell_type": "code",
   "execution_count": 2,
   "metadata": {
    "collapsed": true
   },
   "outputs": [],
   "source": [
    "# Read data from .sav file\n",
    "with SavReader('C:/Research/TRB Data Challenge/NHTS Data 2017/Spss/trippub.sav') as reader:\n",
    "    header  = reader.header\n",
    "    records = reader.all()"
   ]
  },
  {
   "cell_type": "code",
   "execution_count": 3,
   "metadata": {
    "collapsed": true
   },
   "outputs": [],
   "source": [
    "# Convert data into a dataframe\n",
    "myTrip=DataFrame(records) #print (myTrip.shape)\n",
    "myTrip.columns=header #923,572 rows and 102 columns"
   ]
  },
  {
   "cell_type": "code",
   "execution_count": 4,
   "metadata": {
    "collapsed": true
   },
   "outputs": [],
   "source": [
    "# Sort the file\n",
    "myTrip.sort_values(['houseid', 'personid', 'tdtrpnum'], ascending=[True, True, True], inplace=True)\n",
    "myTrip.reset_index(drop=True,inplace = True)"
   ]
  },
  {
   "cell_type": "code",
   "execution_count": 18,
   "metadata": {},
   "outputs": [
    {
     "name": "stdout",
     "output_type": "stream",
     "text": [
      "(129696, 59)\n"
     ]
    }
   ],
   "source": [
    "# read the hh file\n",
    "with SavReader('C:/Research/TRB Data Challenge/NHTS Data 2017/Spss/hhpub.sav') as reader:\n",
    "    header  = reader.header\n",
    "    records = reader.all()\n",
    "    hh=DataFrame(records) \n",
    "    print (hh.shape)\n",
    "    hh.columns=header #923,572 rows and 102 columns"
   ]
  },
  {
   "cell_type": "code",
   "execution_count": 20,
   "metadata": {},
   "outputs": [
    {
     "name": "stdout",
     "output_type": "stream",
     "text": [
      "(129696, 2)\n"
     ]
    }
   ],
   "source": [
    "# Sort hh file\n",
    "hh.sort_values(['houseid'], ascending=[True], inplace=True)\n",
    "hh.reset_index(drop=True,inplace = True)\n",
    "hh_short = hh[['houseid','wthhfin']]\n",
    "print (hh_short.shape)\n",
    "\n",
    "# merge hh short file with the trip file\n",
    "#myTrip = merge(myTrip, hh_short, on=['houseid'], how='left')\n",
    "#print 'New shape of the myTrip file: ',(myTrip.shape)"
   ]
  },
  {
   "cell_type": "code",
   "execution_count": 3,
   "metadata": {},
   "outputs": [
    {
     "name": "stdout",
     "output_type": "stream",
     "text": [
      "(264234, 119)\n"
     ]
    }
   ],
   "source": [
    "#Read the person file\n",
    "with SavReader('C:/Research/TRB Data Challenge/NHTS Data 2017/Spss/perpub.sav') as reader:\n",
    "    header  = reader.header\n",
    "    records = reader.all()\n",
    "    per=DataFrame(records) \n",
    "    print (per.shape)\n",
    "    per.columns=header #923,572 rows and 102 columns"
   ]
  },
  {
   "cell_type": "code",
   "execution_count": 4,
   "metadata": {
    "collapsed": true
   },
   "outputs": [],
   "source": [
    "# Sort person file\n",
    "per.sort_values(['houseid', 'personid'], ascending=[True, True], inplace=True)\n",
    "per.reset_index(drop=True,inplace = True)\n"
   ]
  },
  {
   "cell_type": "code",
   "execution_count": 20,
   "metadata": {},
   "outputs": [
    {
     "data": {
      "text/plain": [
       "prmact\n",
       "-1    4.549636e+07\n",
       "-7    2.714633e+04\n",
       "-8    7.799825e+03\n",
       "01    1.354929e+08\n",
       "02    7.469914e+06\n",
       "03    1.065536e+07\n",
       "04    1.869186e+07\n",
       "05    1.961737e+07\n",
       "06    4.602781e+07\n",
       "97    1.811262e+07\n",
       "Name: wtperfin, dtype: float64"
      ]
     },
     "execution_count": 20,
     "metadata": {},
     "output_type": "execute_result"
    }
   ],
   "source": [
    "# Get some distribution from the household file\n",
    "per['r_age_recode'] = ((per['r_age'] >=5) & (per['r_age']<=15))*1 + ((per['r_age'] >=16) & (per['r_age']<=19))*2 + ((per['r_age'] >=20) & (per['r_age']<=29))*3 + ((per['r_age'] >=30) & (per['r_age']<=39))*4 + ((per['r_age'] >=40) & (per['r_age']<=49))*5 + ((per['r_age'] >=50) & (per['r_age']<=59))*6 + ((per['r_age'] >=60) & (per['r_age']<=64))*7 + ((per['r_age'] >=65))*8\n",
    "per.r_age_recode.value_counts().sort_index()\n",
    "\n",
    "# Get the weighted age count\n",
    "per.groupby(['r_age_recode']).sum()['wtperfin']\n",
    "\n",
    "# Get the weighted driving license distribution\n",
    "per.groupby(['driver']).sum()['wtperfin']\n",
    "\n",
    "# Get the weighted gender distribution\n",
    "per.groupby(['r_sex']).sum()['wtperfin']\n",
    "\n",
    "# Get the weighted gender distribution\n",
    "per.groupby(['educ']).sum()['wtperfin']\n",
    "\n",
    "# Get the weighted gender distribution\n",
    "per.groupby(['prmact']).sum()['wtperfin']"
   ]
  },
  {
   "cell_type": "code",
   "execution_count": 35,
   "metadata": {},
   "outputs": [
    {
     "name": "stdout",
     "output_type": "stream",
     "text": [
      "minimum start time, myTrip:  0\n",
      "maximum start time, myTrip:  1439\n",
      "minimum end time, myTrip:  0\n",
      "maximum end time, myTrip:  1439\n"
     ]
    },
    {
     "data": {
      "text/plain": [
       "endtime_min_recode\n",
       "1     2.906149e+09\n",
       "2     4.422567e+09\n",
       "3     3.473969e+10\n",
       "4     4.453871e+10\n",
       "5     4.587962e+10\n",
       "6     5.129068e+10\n",
       "7     5.592162e+10\n",
       "8     5.895585e+10\n",
       "9     4.297786e+10\n",
       "10    2.122222e+10\n",
       "11    8.297013e+09\n",
       "Name: wttrdfin, dtype: float64"
      ]
     },
     "execution_count": 35,
     "metadata": {},
     "output_type": "execute_result"
    }
   ],
   "source": [
    "# Recode trpmiles in the myTrip file\n",
    "myTrip['trpmiles_recoded'] = (myTrip['trpmiles'] == -9) * 0 + ((myTrip['trpmiles'] >= 0) & (myTrip['trpmiles'] <= 2)) * 1 + ((myTrip['trpmiles'] > 2) & (myTrip['trpmiles'] <= 5)) * 2 + ((myTrip['trpmiles'] > 5) & (myTrip['trpmiles'] <= 10)) * 3 + ((myTrip['trpmiles'] > 10) & (myTrip['trpmiles'] <= 20)) * 4 + ((myTrip['trpmiles'] > 20) & (myTrip['trpmiles'] <= 30)) * 5 + ((myTrip['trpmiles'] > 30) & (myTrip['trpmiles'] <= 40)) * 6 + ((myTrip['trpmiles'] > 40) & (myTrip['trpmiles'] <= 50)) * 7 + ((myTrip['trpmiles'] > 50) & (myTrip['trpmiles'] <= 100)) * 8 + ((myTrip['trpmiles'] > 100) & (myTrip['trpmiles'] <= 200)) * 9 + ((myTrip['trpmiles'] > 200) & (myTrip['trpmiles'] <= 500)) * 10 + ((myTrip['trpmiles'] > 500) & (myTrip['trpmiles'] <= 1000)) * 11 + ((myTrip['trpmiles'] > 1000) & (myTrip['trpmiles'] <= 2000)) * 12 + ((myTrip['trpmiles'] > 2000) & (myTrip['trpmiles'] <= 5000)) * 13 +((myTrip['trpmiles'] > 5000)) * 14\n",
    "\n",
    "# Get the weighted distrbution of the trip miles\n",
    "myTrip.groupby(['trpmiles_recoded']).sum()['wttrdfin']\n",
    "\n",
    "# Start time analysis\n",
    "myTrip['strttime_min'] = [(int(a[0:2])*60 + int(a[2:4]))  for a in myTrip.strttime.tolist()]\n",
    "myTrip['endtime_min'] = [(int(a[0:2])*60 + int(a[2:4]))  for a in myTrip.endtime.tolist()]\n",
    "\n",
    "print 'minimum start time, myTrip: ',myTrip.strttime_min.min()\n",
    "print 'maximum start time, myTrip: ',myTrip.strttime_min.max()\n",
    "\n",
    "print 'minimum end time, myTrip: ',myTrip.endtime_min.min()\n",
    "print 'maximum end time, myTrip: ',myTrip.endtime_min.max()\n",
    "\n",
    "myTrip['strttime_min_recode'] = ((myTrip['strttime_min'] >= 0) & (myTrip['strttime_min'] <= 240)) * 1 +((myTrip['strttime_min'] > 240) & (myTrip['strttime_min'] <= 360)) * 2 +((myTrip['strttime_min'] > 360) & (myTrip['strttime_min'] <= 480)) * 3 +((myTrip['strttime_min'] > 480) & (myTrip['strttime_min'] <= 600)) * 4 +((myTrip['strttime_min'] > 600) & (myTrip['strttime_min'] <= 720)) * 5 +((myTrip['strttime_min'] > 720) & (myTrip['strttime_min'] <= 840)) * 6 +((myTrip['strttime_min'] > 840) & (myTrip['strttime_min'] <= 960)) * 7 +((myTrip['strttime_min'] > 960) & (myTrip['strttime_min'] <= 1080)) * 8 +((myTrip['strttime_min'] > 1080) & (myTrip['strttime_min'] <= 1200)) * 9 +((myTrip['strttime_min'] > 1200) & (myTrip['strttime_min'] <= 1320)) * 10 +((myTrip['strttime_min'] > 1320) & (myTrip['strttime_min'] <= 1440)) * 11 \n",
    "myTrip['endtime_min_recode'] = ((myTrip['endtime_min'] >= 0) & (myTrip['endtime_min'] <= 240)) * 1 +((myTrip['endtime_min'] > 240) & (myTrip['endtime_min'] <= 360)) * 2 +((myTrip['endtime_min'] > 360) & (myTrip['endtime_min'] <= 480)) * 3 +((myTrip['endtime_min'] > 480) & (myTrip['endtime_min'] <= 600)) * 4 +((myTrip['endtime_min'] > 600) & (myTrip['endtime_min'] <= 720)) * 5 +((myTrip['endtime_min'] > 720) & (myTrip['endtime_min'] <= 840)) * 6 +((myTrip['endtime_min'] > 840) & (myTrip['endtime_min'] <= 960)) * 7 +((myTrip['endtime_min'] > 960) & (myTrip['endtime_min'] <= 1080)) * 8 +((myTrip['endtime_min'] > 1080) & (myTrip['endtime_min'] <= 1200)) * 9 +((myTrip['endtime_min'] > 1200) & (myTrip['endtime_min'] <= 1320)) * 10 +((myTrip['endtime_min'] > 1320) & (myTrip['endtime_min'] <= 1440)) * 11 \n",
    "\n",
    "# Get the start time distribution in the myTrip file\n",
    "myTrip.groupby(['strttime_min_recode']).sum()['wttrdfin']\n",
    "\n",
    "# Get the start time distribution in the myTrip file\n",
    "myTrip.groupby(['endtime_min_recode']).sum()['wttrdfin']"
   ]
  },
  {
   "cell_type": "code",
   "execution_count": 23,
   "metadata": {},
   "outputs": [
    {
     "data": {
      "text/plain": [
       "hhfaminc\n",
       "-7    2.771684e+06\n",
       "-8    8.561797e+05\n",
       "-9    2.590322e+04\n",
       "01    8.607121e+06\n",
       "02    6.900342e+06\n",
       "03    1.120173e+07\n",
       "04    1.147109e+07\n",
       "05    1.416885e+07\n",
       "06    1.895294e+07\n",
       "07    1.409148e+07\n",
       "08    1.074918e+07\n",
       "09    6.131339e+06\n",
       "10    5.976166e+06\n",
       "11    6.304255e+06\n",
       "Name: wthhfin, dtype: float64"
      ]
     },
     "execution_count": 23,
     "metadata": {},
     "output_type": "execute_result"
    }
   ],
   "source": [
    "# Household file descrtiptives\n",
    "# (1) Get the household vehicle count\n",
    "hh.groupby(['hhvehcnt']).sum()['wthhfin']\n",
    "\n",
    "# (2) Get the weighted household trip count\n",
    "hh.groupby(['cnttdhh']).sum()['wthhfin']\n",
    "\n",
    "# (3) Get weighted household size\n",
    "hh.groupby(['hhsize']).sum()['wthhfin']\n",
    "\n",
    "# (4) Get weighted household family income\n",
    "hh.groupby(['hhfaminc']).sum()['wthhfin']"
   ]
  },
  {
   "cell_type": "code",
   "execution_count": 21,
   "metadata": {},
   "outputs": [
    {
     "data": {
      "text/plain": [
       "hhvehcnt\n",
       "0.0     658370.392030\n",
       "1.0     570311.334218\n",
       "2.0     450396.711660\n",
       "3.0     150135.035248\n",
       "4.0      58346.901880\n",
       "5.0      36437.563756\n",
       "6.0       3977.660134\n",
       "7.0       1025.774000\n",
       "9.0       1315.733774\n",
       "10.0       375.390577\n",
       "Name: wthhfin, dtype: float64"
      ]
     },
     "execution_count": 21,
     "metadata": {},
     "output_type": "execute_result"
    }
   ],
   "source": [
    "# Get the household descriptives from the households that made at least one shared ride trip\n",
    "shre_hh_1st.groupby(['hhvehcnt']).sum()['wthhfin']\n"
   ]
  },
  {
   "cell_type": "code",
   "execution_count": 34,
   "metadata": {},
   "outputs": [
    {
     "name": "stdout",
     "output_type": "stream",
     "text": [
      "shape of trp_shared (2813, 109)\n",
      "shape of carTrps (795163, 109)\n",
      "trip mile distribution among shared ride trips:  trpmiles_recoded\n",
      "0     8.102537e+05\n",
      "1     5.186450e+08\n",
      "2     6.535287e+08\n",
      "3     3.796823e+08\n",
      "4     1.996604e+08\n",
      "5     6.114921e+07\n",
      "6     1.727684e+07\n",
      "7     6.156128e+06\n",
      "8     5.305890e+06\n",
      "9     2.425445e+06\n",
      "10    3.014466e+06\n",
      "11    6.137003e+04\n",
      "12    1.071520e+05\n",
      "13    1.379977e+06\n",
      "Name: wttrdfin, dtype: float64\n",
      "trip mile distribution among car trips:  trpmiles_recoded\n",
      "0     1.856261e+07\n",
      "1     8.822859e+10\n",
      "2     8.593486e+10\n",
      "3     5.749792e+10\n",
      "4     4.175883e+10\n",
      "5     1.460401e+10\n",
      "6     5.849468e+09\n",
      "7     3.054369e+09\n",
      "8     4.729068e+09\n",
      "9     2.099050e+09\n",
      "10    6.798096e+08\n",
      "11    6.248951e+07\n",
      "12    4.973464e+07\n",
      "13    4.115883e+06\n",
      "14    4.201506e+05\n",
      "Name: wttrdfin, dtype: float64\n",
      "start time frequency among shared ride trips:  strttime_min_recode\n",
      "1     1.438962e+08\n",
      "2     3.000336e+07\n",
      "3     1.098202e+08\n",
      "4     2.246655e+08\n",
      "5     2.262590e+08\n",
      "6     1.646965e+08\n",
      "7     1.829197e+08\n",
      "8     2.381918e+08\n",
      "9     1.971352e+08\n",
      "10    1.570878e+08\n",
      "11    1.745279e+08\n",
      "Name: wttrdfin, dtype: float64\n",
      "maximum trip miles 2645.604\n",
      "minimum trip miles -9.0\n",
      "count of -9 3\n",
      "count of 0 0\n",
      "maximum trip miles - myTrip file:  9621.053\n",
      "minimum trip miles - myTrip file:  -9.0\n",
      "count of -9 - myTrip file:  656\n",
      "count of 0 - myTrip file:  485\n",
      "count of -1 - myTrip file:  0\n"
     ]
    },
    {
     "data": {
      "image/png": "[encoded data removed]",
      "text/plain": [
       "<matplotlib.figure.Figure at 0x15c952438>"
      ]
     },
     "metadata": {},
     "output_type": "display_data"
    }
   ],
   "source": [
    "# Create a dummy for the ride sharing mode, taxi/uber/lift\n",
    "myTrip['ride_share'] = (myTrip['trptrans'] == '17') # 2813 ride sharing trips\n",
    "# Create a dummy for the transit mode\n",
    "myTrip['Transit'] = ((myTrip['trptrans'] == '11') | (myTrip['trptrans'] == '14') | (myTrip['trptrans'] == '15') | (myTrip['trptrans'] == '16'))\n",
    "\n",
    "trp_shared = myTrip[myTrip.trptrans == '17']\n",
    "print 'shape of trp_shared', trp_shared.shape\n",
    "\n",
    "carTrps = myTrip[(myTrip.trptrans == '03') | (myTrip.trptrans == '04') | (myTrip.trptrans == '05') | (myTrip.trptrans == '06')]\n",
    "print 'shape of carTrps', carTrps.shape\n",
    "\n",
    "# Get the trip mile distribution only among the shared ride trips\n",
    "print 'trip mile distribution among shared ride trips: ',trp_shared.groupby(['trpmiles_recoded']).sum()['wttrdfin']\n",
    "\n",
    "# Get the trip mile distribution only among the car/van/suv/pick up truck trips\n",
    "print 'trip mile distribution among car trips: ', carTrps.groupby(['trpmiles_recoded']).sum()['wttrdfin']\n",
    "\n",
    "# Get the start time distribution within the shared trips\n",
    "print 'start time frequency among shared ride trips: ', trp_shared.groupby(['strttime_min_recode']).sum()['wttrdfin']\n",
    "\n",
    "# Assessment of trpmiles in trp_shared file\n",
    "print 'maximum trip miles', trp_shared.trpmiles.max()\n",
    "print 'minimum trip miles', trp_shared.trpmiles.min()\n",
    "print 'count of -9', trp_shared.trpmiles.tolist().count(-9)\n",
    "print 'count of 0', trp_shared.trpmiles.tolist().count(0)\n",
    "\n",
    "# Assessment of trpmiles in myTrip file\n",
    "print 'maximum trip miles - myTrip file: ', myTrip.trpmiles.max()\n",
    "print 'minimum trip miles - myTrip file: ', myTrip.trpmiles.min()\n",
    "print 'count of -9 - myTrip file: ', myTrip.trpmiles.tolist().count(-9)\n",
    "print 'count of 0 - myTrip file: ', myTrip.trpmiles.tolist().count(0)\n",
    "print 'count of -1 - myTrip file: ', myTrip.trpmiles.tolist().count(-1)\n",
    "\n",
    "# Plot trip miles\n",
    "plt.figure(figsize = (20,10))\n",
    "plt.plot(trp_shared.trpmiles.tolist())\n",
    "plt.show()"
   ]
  },
  {
   "cell_type": "code",
   "execution_count": 48,
   "metadata": {
    "collapsed": true
   },
   "outputs": [],
   "source": [
    "# function to create a dummy to identify households that use taxi/uber/lyft\n",
    "def modeind(group):  # Need to be grouoed by the household id\n",
    "    \n",
    "    global count\n",
    "    \n",
    "    rde_shre_id = []\n",
    "    \n",
    "    rdeShare = group['ride_share'].tolist()\n",
    "    if (sum(rdeShare) > 0):\n",
    "        count = count + 1\n",
    "        rde_shre_id = [1 for i in xrange(len(rdeShare))]\n",
    "    else:\n",
    "        rde_shre_id = [0 for i in xrange(len(rdeShare))]\n",
    "            \n",
    "    group.loc[:,'rde_shre_hhid'] = rde_shre_id        \n",
    "    \n",
    "    return group\n"
   ]
  },
  {
   "cell_type": "code",
   "execution_count": 24,
   "metadata": {},
   "outputs": [
    {
     "name": "stdout",
     "output_type": "stream",
     "text": [
      "(1352, 106)\n",
      "shape of trpcnt2:  (1352, 107)\n"
     ]
    },
    {
     "data": {
      "text/plain": [
       "hhfaminc\n",
       "-7     15248.163054\n",
       "-8      6730.743417\n",
       "01    212213.244112\n",
       "02    105115.281137\n",
       "03    128272.945556\n",
       "04    118589.864027\n",
       "05    102350.288648\n",
       "06    238714.672639\n",
       "07    174347.701592\n",
       "08    152281.457165\n",
       "09    144639.110959\n",
       "10    166919.524645\n",
       "11    365269.500325\n",
       "Name: wthhfin, dtype: float64"
      ]
     },
     "execution_count": 24,
     "metadata": {},
     "output_type": "execute_result"
    }
   ],
   "source": [
    "import pickle\n",
    "# Import the pickle file containing the trip records that made at least one trip by taxi/uber/lyft\n",
    "shre_rde_hh = read_pickle('C:/Research/TRB Data Challenge/NHTS Data 2017/Spss/hh_trp_taxi_02.pkl')\n",
    "\n",
    "# Sort the data frame\n",
    "shre_rde_hh.sort_values(['houseid', 'personid', 'tdtrpnum'], ascending=[True, True, True], inplace=True)\n",
    "shre_rde_hh.reset_index(drop=True,inplace = True)\n",
    "\n",
    "# Create a column counting the number of trips made by each household\n",
    "trpcnt = shre_rde_hh.groupby(['houseid']).count()['tdtrpnum']\n",
    "trpcnt = trpcnt.to_frame().reset_index()\n",
    "trpcnt.columns = ['houseid','trpcnt_hh']\n",
    "#print 'Type of Trpcnt: ', type(trpcnt)\n",
    "#print(trpcnt.head(10))\n",
    "trpcnt.sort_values(['houseid'], ascending=[True], inplace=True)\n",
    "trpcnt.reset_index(drop=True,inplace = True)\n",
    "\n",
    "\n",
    "# Get only the first column\n",
    "# Make data frame with only the 1st row of the data frame\n",
    "shre_hh_1st = shre_rde_hh.groupby(['houseid']).first().reset_index()   # 1352 households\n",
    "print shre_hh_1st.shape\n",
    "\n",
    "trpcnt2 = merge(trpcnt, shre_hh_1st, on = ['houseid'], how = 'right')\n",
    "print 'shape of trpcnt2: ', trpcnt2.shape\n",
    "\n",
    "# (1) Get the wighted trip count by hh weight\n",
    "trpcnt2.groupby(['trpcnt_hh']).sum()['wthhfin']\n",
    "\n",
    "# (2) Get the house hold size\n",
    "trpcnt2.groupby(['hhsize']).sum()['wthhfin']\n",
    "\n",
    "# (4) Get weighted household family income\n",
    "trpcnt2.groupby(['hhfaminc']).sum()['wthhfin']"
   ]
  },
  {
   "cell_type": "code",
   "execution_count": 49,
   "metadata": {},
   "outputs": [
    {
     "name": "stdout",
     "output_type": "stream",
     "text": [
      "Number of trips made by the household who used at least 1 trip by taxi/uber/lyft 1352\n"
     ]
    }
   ],
   "source": [
    "# Create an id to identify the housheolds where at least 1 trip has been made via ride share mode\n",
    "count = 0\n",
    "result = myTrip.groupby(['houseid'], group_keys = False ).apply(modeind)\n",
    "myTrip['rde_shre_hhid'] = result.rde_shre_hhid\n",
    "print 'Number of households made by the household who used at least 1 trip by taxi/uber/lyft', count\n",
    "del result, count"
   ]
  },
  {
   "cell_type": "code",
   "execution_count": 50,
   "metadata": {},
   "outputs": [
    {
     "name": "stdout",
     "output_type": "stream",
     "text": [
      "Number of household that use at least 1 taxi/uber/lyft trip (12496, 106)\n"
     ]
    }
   ],
   "source": [
    "# Create a seperate dataframe containing only the households that developed at least one trip by taxi/uber/lyft\n",
    "shre_rde_hh = myTrip[myTrip['rde_shre_hhid']==1]\n",
    "print 'Number of household that use at least 1 taxi/uber/lyft trip', shre_rde_hh.shape"
   ]
  },
  {
   "cell_type": "code",
   "execution_count": 51,
   "metadata": {
    "collapsed": true
   },
   "outputs": [],
   "source": [
    "import pickle\n",
    "shre_rde_hh.to_pickle('C:/Research/TRB Data Challenge/NHTS Data 2017/Spss/hh_trp_taxi_02.pkl')  # This is the file with household weight attached"
   ]
  },
  {
   "cell_type": "code",
   "execution_count": 19,
   "metadata": {},
   "outputs": [
    {
     "name": "stdout",
     "output_type": "stream",
     "text": [
      "(1352, 106)\n",
      "(1352, 106)\n"
     ]
    }
   ],
   "source": [
    "# Import the pickle file containing the trip records that made at least one trip by taxi/uber/lyft\n",
    "shre_rde_hh = read_pickle('C:/Research/TRB Data Challenge/NHTS Data 2017/Spss/hh_trp_taxi_02.pkl')\n",
    "#print 'shape of the file containing household trips making at least 1 trip by taxi/uber/lyft', shre_rde_hh.shape\n",
    "\n",
    "# Sort the data frame\n",
    "shre_rde_hh.sort_values(['houseid', 'personid', 'tdtrpnum'], ascending=[True, True, True], inplace=True)\n",
    "shre_rde_hh.reset_index(drop=True,inplace = True)\n",
    "\n",
    "# Count the number of trips by household\n",
    "shre_rde_hh\n",
    "\n",
    "# Make data frame with only the 1st row of the data frame\n",
    "shre_hh_1st = shre_rde_hh.groupby(['houseid']).first().reset_index()   # 1352 households\n",
    "print shre_hh_1st.shape\n",
    "\n",
    "# Make data frame with only the last row of the data frame\n",
    "shre_hh_last = shre_rde_hh.groupby(['houseid']).last().reset_index()   # 1352 households\n",
    "print shre_hh_last.shape"
   ]
  },
  {
   "cell_type": "code",
   "execution_count": 102,
   "metadata": {},
   "outputs": [
    {
     "data": {
      "image/png": "[encoded data removed]",
      "text/plain": [
       "<matplotlib.figure.Figure at 0x31d95780>"
      ]
     },
     "metadata": {},
     "output_type": "display_data"
    }
   ],
   "source": [
    "# Plot the start time\n",
    "strttime = [(int(a[0:2])*60 + int(a[2:4]))  for a in shre_rde_hh.strttime.tolist()]\n",
    "#strttime = [(int(a[2:4]))  for a in shre_rde_hh.strttime.tolist()]\n",
    "#strttime\n",
    "\n",
    "x_axis = list(range(1440))\n",
    "\n",
    "strtme_freq = [strttime.count(a) for a in x_axis]\n",
    "\n",
    "\n",
    "plt.figure(figsize = (20,10))\n",
    "\n",
    "\n",
    "#plt.plot(x_axis, strtme_freq,zorder = 1)\n",
    "plt.scatter(x_axis, strtme_freq, zorder = 2)\n",
    "#plt.hist(strttime, normed = False, bins = 288)\n",
    "plt.xticks(np.arange(min(x_axis),max(x_axis),15.0 ))\n",
    "plt.show()\n",
    "\n",
    "\n",
    "\n",
    "\n",
    "\n"
   ]
  },
  {
   "cell_type": "code",
   "execution_count": 89,
   "metadata": {},
   "outputs": [
    {
     "name": "stdout",
     "output_type": "stream",
     "text": [
      "Average trip count by purpose for hh useing taxi/uber/lyft WO normalizing by hh size whyto\n",
      "-7    1.500000\n",
      "-8    1.000000\n",
      "01    2.927042\n",
      "02    1.363636\n",
      "03    1.847861\n",
      "04    2.127049\n",
      "05    1.520000\n",
      "06    2.226667\n",
      "07    2.525773\n",
      "08    1.632911\n",
      "09    1.666667\n",
      "10    1.000000\n",
      "11    1.832512\n",
      "12    1.434286\n",
      "13    2.035831\n",
      "14    1.397351\n",
      "15    2.069544\n",
      "16    1.363248\n",
      "17    1.766154\n",
      "18    1.442424\n",
      "19    1.732558\n",
      "97    1.333333\n",
      "Name: tdtrpnum, dtype: float64\n"
     ]
    }
   ],
   "source": [
    "# Get the number of trips made by each household\n",
    "num_trp = shre_rde_hh.groupby([\"houseid\"]).count()[\"tdtrpnum\"]\n",
    "#print 'type of num_trp', type(num_trp), 'Total number of trips', num_trp.sum()\n",
    "#print 'how many trips produced by hoseholds, total' sum(num_trp.tolist())\n",
    "\n",
    "num_trp_wtd = shre_rde_hh.groupby([\"houseid\"]).sum()[\"wttrdfin\"]\n",
    "#print 'weighted trip number: ', num_trp_wtd.head(10)\n",
    "\n",
    "# Get the household size\n",
    "hh_sze = shre_rde_hh.groupby([\"houseid\"]).first()[\"hhsize\"]\n",
    "#print hh_sze.head(20), hh_size.shape\n",
    "\n",
    "hh_wt = shre_rde_hh.groupby([\"houseid\"]).first()[\"wthhfin\"]\n",
    "hh_sze_wtd = hh_sze * hh_wt \n",
    "#print 'weighted household size', hh_sze_wtd.head(10)\n",
    "\n",
    "trp_by_sze = num_trp/hh_sze\n",
    "#print type(trp_by_sze), trp_by_sze.head(10), 'average number of trips', trp_by_sze.mean(), trp_by_sze.std() \n",
    "\n",
    "trp_by_sze_wtd = num_trp_wtd/hh_sze_wtd\n",
    "#print type(trp_by_sze_wtd), trp_by_sze_wtd.head(10), 'average number of trips', trp_by_sze_wtd.mean(), trp_by_sze_wtd.std()\n",
    "\n",
    "# Average trip by purpose\n",
    "num_trp_pur = shre_rde_hh.groupby([\"houseid\",\"whyto\"]).count()[\"tdtrpnum\"]\n",
    "#print 'trip count by hhid', num_trp.head(10)\n",
    "#print 'trip count by hhid and purpose', num_trp_pur.head(10)\n",
    "\n",
    "# convert the series into dataframe\n",
    "num_trp_pur = num_trp_pur.to_frame().reset_index()\n",
    "#num_trp_pur.columns = ['houseid','whyto','trp_cnt']\n",
    "#print num_trp_pur.head(10)\n",
    "hh_sze = hh_sze.to_frame().reset_index()\n",
    "#hh_sze.columns = ['houseid','hh_sze']\n",
    "#print hh_sze.head(10)\n",
    "\n",
    "new_df = merge(num_trp_pur,hh_sze, on = 'houseid' , how = 'left')\n",
    "#print 'new data frame: ',new_df.head(10) \n",
    "new_df['trp_cnt_by_pur'] = new_df.tdtrpnum/new_df.hhsize   # This is a series\n",
    "#type(trp_cnt_by_pur)\n",
    "new_df.head(10)\n",
    "\n",
    "# Calate average number of trips by purpose - normalized by hh_size\n",
    "#print 'Average trip count by purpose for hh useing taxi/uber/lyft', new_df.groupby(['whyto']).mean()['trp_cnt_by_pur']\n",
    "\n",
    "# Calate average number of trips by purpose - WO normalizing by hh_size\n",
    "print 'Average trip count by purpose for hh useing taxi/uber/lyft WO normalizing by hh size', new_df.groupby(['whyto']).mean()['tdtrpnum']"
   ]
  },
  {
   "cell_type": "code",
   "execution_count": 11,
   "metadata": {},
   "outputs": [
    {
     "name": "stderr",
     "output_type": "stream",
     "text": [
      "C:\\Users\\annes\\AppData\\Local\\conda\\conda\\envs\\my_root\\lib\\site-packages\\ipykernel_launcher.py:5: SettingWithCopyWarning: \n",
      "A value is trying to be set on a copy of a slice from a DataFrame.\n",
      "Try using .loc[row_indexer,col_indexer] = value instead\n",
      "\n",
      "See the caveats in the documentation: http://pandas.pydata.org/pandas-docs/stable/indexing.html#indexing-view-versus-copy\n",
      "  \"\"\"\n"
     ]
    },
    {
     "data": {
      "text/plain": [
       "0      1216\n",
       "1     79066\n",
       "2     26705\n",
       "3     72642\n",
       "4    114958\n",
       "5    118366\n",
       "6    165086\n",
       "7     99409\n",
       "8    246124\n",
       "Name: r_age_recode, dtype: int64"
      ]
     },
     "execution_count": 11,
     "metadata": {},
     "output_type": "execute_result"
    }
   ],
   "source": [
    "# Age distribution of the people using ride sharing service\n",
    "trp_rd_shr = myTrip[myTrip.trptrans == '17']\n",
    "type(trp_rd_shr)\n",
    "trp_rd_shr.shape\n",
    "trp_rd_shr['r_age_recode'] = ((trp_rd_shr['r_age'] >=5) & (trp_rd_shr['r_age']<=15))*1 + ((trp_rd_shr['r_age'] >=16) & (trp_rd_shr['r_age']<=19))*2 + ((trp_rd_shr['r_age'] >=20) & (trp_rd_shr['r_age']<=29))*3 + ((trp_rd_shr['r_age'] >=30) & (trp_rd_shr['r_age']<=39))*4 + ((trp_rd_shr['r_age'] >=40) & (trp_rd_shr['r_age']<=49))*5 + ((trp_rd_shr['r_age'] >=50) & (trp_rd_shr['r_age']<=59))*6 + ((trp_rd_shr['r_age'] >=60) & (trp_rd_shr['r_age']<=64))*7 + ((trp_rd_shr['r_age'] >=65))*8\n",
    "trp_rd_shr.r_age_recode.value_counts().sort_index()\n",
    "\n",
    "# Recode r_age in the myTrip file\n",
    "myTrip['r_age_recode'] = ((myTrip['r_age'] >=5) & (myTrip['r_age']<=15))*1 + ((myTrip['r_age'] >=16) & (myTrip['r_age']<=19))*2 + ((myTrip['r_age'] >=20) & (myTrip['r_age']<=29))*3 + ((myTrip['r_age'] >=30) & (myTrip['r_age']<=39))*4 + ((myTrip['r_age'] >=40) & (myTrip['r_age']<=49))*5 + ((myTrip['r_age'] >=50) & (myTrip['r_age']<=59))*6 + ((myTrip['r_age'] >=60) & (myTrip['r_age']<=64))*7 + ((myTrip['r_age'] >=65))*8\n",
    "myTrip.r_age_recode.value_counts().sort_index()"
   ]
  },
  {
   "cell_type": "code",
   "execution_count": 25,
   "metadata": {},
   "outputs": [
    {
     "data": {
      "text/plain": [
       "whyto\n",
       "-7    1.015935e+06\n",
       "01    6.924817e+08\n",
       "02    5.101662e+06\n",
       "03    2.120006e+08\n",
       "04    1.297612e+08\n",
       "05    1.258221e+06\n",
       "06    5.165205e+07\n",
       "07    1.134354e+08\n",
       "08    1.266676e+07\n",
       "09    1.168010e+06\n",
       "10    4.136099e+05\n",
       "11    8.374648e+07\n",
       "12    2.740333e+07\n",
       "13    1.035004e+08\n",
       "14    3.378968e+07\n",
       "15    1.748615e+08\n",
       "16    8.203668e+06\n",
       "17    9.165860e+07\n",
       "18    7.461123e+07\n",
       "19    2.980360e+07\n",
       "97    6.694551e+05\n",
       "Name: wttrdfin, dtype: float64"
      ]
     },
     "execution_count": 25,
     "metadata": {},
     "output_type": "execute_result"
    }
   ],
   "source": [
    "# Weighted distribution of age among the ride shared trips\n",
    "trp_rd_shr.groupby(['r_age_recode']).sum()['wttrdfin']\n",
    "\n",
    "# Weighted driving license distribution among the ride shared trips\n",
    "trp_rd_shr.groupby(['driver']).sum()['wttrdfin']\n",
    "\n",
    "# Weighted gender distribution among the ride shared trips\n",
    "trp_rd_shr.groupby(['r_sex']).sum()['wttrdfin']\n",
    "\n",
    "# Weighted education distribution among the ride shared trips\n",
    "trp_rd_shr.groupby(['educ']).sum()['wttrdfin']\n",
    "\n",
    "# Weighted primary activity distribution among the ride shared trips\n",
    "trp_rd_shr.groupby(['prmact']).sum()['wttrdfin']\n",
    "\n",
    "########################TRIP LEVEL#########################\n",
    "# Weighted primary activity distribution among the ride shared trips\n",
    "trp_rd_shr.groupby(['whyto']).sum()['wttrdfin']\n",
    "\n"
   ]
  },
  {
   "cell_type": "code",
   "execution_count": 13,
   "metadata": {},
   "outputs": [
    {
     "name": "stdout",
     "output_type": "stream",
     "text": [
      "recoded age distribution:  r_age_recode\n",
      "0    5.546895e+08\n",
      "1    4.604365e+10\n",
      "2    1.802056e+10\n",
      "3    4.888947e+10\n",
      "4    6.085567e+10\n",
      "5    5.534545e+10\n",
      "6    5.792002e+10\n",
      "7    2.814726e+10\n",
      "8    5.537520e+10\n",
      "Name: wttrdfin, dtype: float64\n",
      "driver distribution:  driver\n",
      "-1    4.212968e+10\n",
      "01    2.972826e+11\n",
      "02    3.173966e+10\n",
      "Name: wttrdfin, dtype: float64\n",
      "gender distribution:  r_sex\n",
      "-7    3.566065e+08\n",
      "-8    4.852741e+07\n",
      "01    1.788352e+11\n",
      "02    1.919117e+11\n",
      "Name: wttrdfin, dtype: float64\n",
      "education distribution:  educ\n",
      "-1    3.809539e+10\n",
      "-7    8.954128e+07\n",
      "-8    1.821771e+08\n",
      "01    3.046807e+10\n",
      "02    6.239443e+10\n",
      "03    9.508508e+10\n",
      "04    7.912062e+10\n",
      "05    6.571666e+10\n",
      "Name: wttrdfin, dtype: float64\n",
      "primary activity distribution:  prmact\n",
      "-1    4.616931e+10\n",
      "-7    1.204190e+07\n",
      "-8    8.935383e+06\n",
      "01    1.876509e+11\n",
      "02    8.764219e+09\n",
      "03    1.141853e+10\n",
      "04    2.366149e+10\n",
      "05    2.138995e+10\n",
      "06    5.364434e+10\n",
      "97    1.843221e+10\n",
      "Name: wttrdfin, dtype: float64\n"
     ]
    }
   ],
   "source": [
    "# Wighted distributions among the whole trip file\n",
    "myTrip.groupby(['whyto']).sum()['wttrdfin']\n",
    "\n",
    "# Wighted distributions among the whole trip file\n",
    "myTrip.groupby(['trptrans']).sum()['wttrdfin']\n",
    "\n",
    "# Weighted distribution of age among the ride shared trips\n",
    "print 'recoded age distribution: ', myTrip.groupby(['r_age_recode']).sum()['wttrdfin']\n",
    "\n",
    "# Weighted driving license distribution among the ride shared trips\n",
    "print 'driver distribution: ',myTrip.groupby(['driver']).sum()['wttrdfin']\n",
    "\n",
    "# Weighted gender distribution among the ride shared trips\n",
    "print 'gender distribution: ', myTrip.groupby(['r_sex']).sum()['wttrdfin']\n",
    "\n",
    "# Weighted education distribution among the ride shared trips\n",
    "print 'education distribution: ', myTrip.groupby(['educ']).sum()['wttrdfin']\n",
    "\n",
    "# Weighted primary activity distribution among the ride shared trips\n",
    "print 'primary activity distribution: ', myTrip.groupby(['prmact']).sum()['wttrdfin']"
   ]
  },
  {
   "cell_type": "code",
   "execution_count": 90,
   "metadata": {},
   "outputs": [
    {
     "name": "stdout",
     "output_type": "stream",
     "text": [
      "Average trip count by purpose for hh  whyto\n",
      "-7    0.863866\n",
      "-8    0.594792\n",
      "-9    0.433333\n",
      "01    1.337298\n",
      "02    0.629172\n",
      "03    0.880069\n",
      "04    0.835572\n",
      "05    0.788004\n",
      "06    0.939659\n",
      "07    0.898312\n",
      "08    0.477499\n",
      "09    0.509140\n",
      "10    0.611069\n",
      "11    1.116413\n",
      "12    0.808043\n",
      "13    0.896992\n",
      "14    0.852304\n",
      "15    0.831760\n",
      "16    0.763790\n",
      "17    0.873349\n",
      "18    0.746415\n",
      "19    0.843029\n",
      "97    0.640028\n",
      "Name: trp_cnt_by_pur, dtype: float64\n",
      "Average trip count by purpose for hh WO normalizing by hh size whyto\n",
      "-7    1.952941\n",
      "-8    1.208333\n",
      "-9    1.142857\n",
      "01    2.761522\n",
      "02    1.319894\n",
      "03    1.814994\n",
      "04    1.628643\n",
      "05    1.465648\n",
      "06    2.344061\n",
      "07    1.827686\n",
      "08    1.661761\n",
      "09    1.484109\n",
      "10    1.269321\n",
      "11    2.091440\n",
      "12    1.433057\n",
      "13    1.768905\n",
      "14    1.504078\n",
      "15    1.822643\n",
      "16    1.463922\n",
      "17    1.672772\n",
      "18    1.386534\n",
      "19    1.701582\n",
      "97    1.456967\n",
      "Name: tdtrpnum, dtype: float64\n"
     ]
    }
   ],
   "source": [
    "# Average trip by purpose FOR FULL DATASET\n",
    "\n",
    "# Get household size\n",
    "hh_sze = myTrip.groupby([\"houseid\"]).first()[\"hhsize\"]\n",
    "\n",
    "# Get count of trip by purpose\n",
    "num_trp_pur = myTrip.groupby([\"houseid\",\"whyto\"]).count()[\"tdtrpnum\"]\n",
    "#print 'trip count by hhid', num_trp.head(10)\n",
    "#print 'trip count by hhid and purpose', num_trp_pur.head(10)\n",
    "\n",
    "# convert the series into dataframe\n",
    "num_trp_pur = num_trp_pur.to_frame().reset_index()\n",
    "#num_trp_pur.columns = ['houseid','whyto','trp_cnt']\n",
    "#print num_trp_pur.head(10)\n",
    "hh_sze = hh_sze.to_frame().reset_index()\n",
    "#hh_sze.columns = ['houseid','hh_sze']\n",
    "#print hh_sze.head(10)\n",
    "\n",
    "new_df = merge(num_trp_pur,hh_sze, on = 'houseid' , how = 'left')\n",
    "#print 'new data frame: ',new_df.head(10) \n",
    "new_df['trp_cnt_by_pur'] = new_df.tdtrpnum/new_df.hhsize   # This is a series\n",
    "#type(trp_cnt_by_pur)\n",
    "new_df.head(10)\n",
    "\n",
    "# Calate average number of trips by purpose\n",
    "print 'Average trip count by purpose for hh ', new_df.groupby(['whyto']).mean()['trp_cnt_by_pur']\n",
    "\n",
    "# Calate average number of trips by purpose - WO normalizing by hh_size\n",
    "print 'Average trip count by purpose for hh WO normalizing by hh size', new_df.groupby(['whyto']).mean()['tdtrpnum']"
   ]
  },
  {
   "cell_type": "code",
   "execution_count": 7,
   "metadata": {},
   "outputs": [
    {
     "data": {
      "text/plain": [
       "trptrans\n",
       "01    1.810001e+09\n",
       "02    1.103067e+08\n",
       "03    1.740749e+09\n",
       "04    7.278887e+08\n",
       "05    3.022042e+08\n",
       "06    1.207737e+08\n",
       "07    1.380577e+06\n",
       "08    2.225558e+07\n",
       "09    2.610799e+04\n",
       "10    7.299008e+07\n",
       "11    2.638221e+08\n",
       "12    1.913315e+07\n",
       "13    3.789826e+07\n",
       "14    7.943299e+06\n",
       "15    7.975816e+07\n",
       "16    3.400404e+08\n",
       "17    1.849203e+09\n",
       "18    9.769028e+07\n",
       "19    2.086302e+08\n",
       "20    8.385918e+06\n",
       "97    1.247511e+07\n",
       "Name: wttrdfin, dtype: float64"
      ]
     },
     "execution_count": 7,
     "metadata": {},
     "output_type": "execute_result"
    }
   ],
   "source": [
    "# Analyze the trips made by the household who made at least one trip by taxi/uber/lyft\n",
    "# (1) What other modes did they use?\n",
    "shre_rde_hh.trptrans.value_counts().sort_index()\n",
    "\n",
    "# (2) How many trips by each household\n",
    "no_trp = shre_rde_hh.groupby(['houseid']).size().reset_index(name = 'num_trp')\n",
    "#no_trp.to_csv(r'C:/Research/TRB Data Challenge/NHTS Data 2017/Spss/no_trp_hh_shared.csv', header=True, float_format = '%.f', index=None, sep=' ', mode='a')  \n",
    "\n",
    "# (3) Calculate household size\n",
    "hh_size = shre_rde_hh.groupby(['houseid']).first\n",
    "\n",
    "# (4) Wighted mode distribution of the households that made at least 1 trip by uber/taxi/lyft\n",
    "shre_rde_hh.groupby(['trptrans']).sum()['wttrdfin']"
   ]
  },
  {
   "cell_type": "code",
   "execution_count": 9,
   "metadata": {},
   "outputs": [
    {
     "data": {
      "text/plain": [
       "(12496, 106)"
      ]
     },
     "execution_count": 9,
     "metadata": {},
     "output_type": "execute_result"
    }
   ],
   "source": [
    "shre_rde_hh.shape"
   ]
  },
  {
   "cell_type": "code",
   "execution_count": 39,
   "metadata": {},
   "outputs": [
    {
     "data": {
      "text/plain": [
       "11.49357483114111"
      ]
     },
     "execution_count": 39,
     "metadata": {},
     "output_type": "execute_result"
    }
   ],
   "source": [
    "sum((myTrip['trptrans'] == '18') * (myTrip['trpmiles']))/sum(myTrip['trptrans'] == '18')\n",
    "sum((myTrip['trptrans'] == '17') * (myTrip['trpmiles']))/sum(myTrip['trptrans'] == '17')"
   ]
  },
  {
   "cell_type": "code",
   "execution_count": 42,
   "metadata": {},
   "outputs": [
    {
     "data": {
      "text/plain": [
       "-7       1\n",
       "01    1022\n",
       "02      11\n",
       "03     198\n",
       "04     187\n",
       "05       6\n",
       "06      42\n",
       "07     263\n",
       "08      17\n",
       "09       5\n",
       "10       2\n",
       "11     132\n",
       "12      36\n",
       "13     228\n",
       "14      32\n",
       "15     289\n",
       "16      12\n",
       "17     152\n",
       "18     122\n",
       "19      51\n",
       "97       5\n",
       "Name: whyto, dtype: int64"
      ]
     },
     "execution_count": 42,
     "metadata": {},
     "output_type": "execute_result"
    }
   ],
   "source": [
    "trp_rent = myTrip[myTrip['trptrans']=='17']\n",
    "trp_rent.whyto.value_counts().sort_index()"
   ]
  },
  {
   "cell_type": "code",
   "execution_count": 46,
   "metadata": {},
   "outputs": [
    {
     "data": {
      "text/plain": [
       "[1, 1, 1]"
      ]
     },
     "execution_count": 46,
     "metadata": {},
     "output_type": "execute_result"
    }
   ],
   "source": [
    "a = [1 for i in xrange(len([1,2,3]))]\n",
    "a\n",
    "b = [1 for i in range(len([1,2,3]))]\n",
    "b"
   ]
  },
  {
   "cell_type": "code",
   "execution_count": 28,
   "metadata": {},
   "outputs": [
    {
     "data": {
      "image/png": "[encoded data removed]",
      "text/plain": [
       "<matplotlib.figure.Figure at 0x2e8b3780>"
      ]
     },
     "metadata": {},
     "output_type": "display_data"
    }
   ],
   "source": [
    "a = [1,2,3,4,5,6,7,8,9,10]\n",
    "plt.plot(shre_rde_hh.strttime.tolist())\n",
    "plt.show()"
   ]
  },
  {
   "cell_type": "code",
   "execution_count": 41,
   "metadata": {},
   "outputs": [
    {
     "name": "stdout",
     "output_type": "stream",
     "text": [
      "-9 in trpmiles column:  656\n",
      "0 in trpmiles column:  485\n",
      "-1 in vmt_mile column:  312273\n",
      "0 in vmt_mile column:  95\n",
      "length of trp_mile after getting rid off -9:  922916\n"
     ]
    }
   ],
   "source": [
    "# Plot 'trpmiles' versus vmt_mile\n",
    "trp_mile = myTrip.trpmiles.tolist()\n",
    "vmt_mile = myTrip.vmt_mile.tolist()\n",
    "plt.plot(trp_mile, vmt_mile)\n",
    "plt.xlabel('trip miles')\n",
    "plt.ylabel('vmt miles')\n",
    "#plt.show()\n",
    "\n",
    "print '-9 in trpmiles column: ', trp_mile.count(-9)   # 656\n",
    "print '0 in trpmiles column: ', trp_mile.count(0)     # 485\n",
    "print '-1 in vmt_mile column: ', vmt_mile.count(-1)   # 312273\n",
    "print '0 in vmt_mile column: ', vmt_mile.count(0)     # 95\n",
    "\n",
    "trp_mile = [x for x in trp_mile if x!= -9]\n",
    "print 'length of trp_mile after getting rid off -9: ', len(trp_mile)  #922916\n",
    "\n",
    "\n"
   ]
  },
  {
   "cell_type": "code",
   "execution_count": 10,
   "metadata": {},
   "outputs": [
    {
     "data": {
      "text/plain": [
       "(923572, 104)"
      ]
     },
     "execution_count": 10,
     "metadata": {},
     "output_type": "execute_result"
    }
   ],
   "source": [
    "myTrip.shape\n"
   ]
  }
 ],
 "metadata": {
  "kernelspec": {
   "display_name": "Python 2",
   "language": "python",
   "name": "python2"
  },
  "language_info": {
   "codemirror_mode": {
    "name": "ipython",
    "version": 2
   },
   "file_extension": ".py",
   "mimetype": "text/x-python",
   "name": "python",
   "nbconvert_exporter": "python",
   "pygments_lexer": "ipython2",
   "version": "2.7.14"
  }
 },
 "nbformat": 4,
 "nbformat_minor": 2
}
